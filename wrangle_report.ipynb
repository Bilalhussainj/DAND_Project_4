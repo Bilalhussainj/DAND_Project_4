{
 "cells": [
  {
   "cell_type": "markdown",
   "metadata": {},
   "source": [
    "# Udacity Project - We Rate Dogs\n",
    " by Bilal Hussain"
   ]
  },
  {
   "cell_type": "markdown",
   "metadata": {},
   "source": [
    "This report shows the steps taken to complete the 'WeRateDogs' project by udacity. The aim of this project is to gather the data and then proceed to cleaning it by identifying quality and tidiness issues. There were three main steps to this project:\n",
    "\n",
    "- Gather Data\n",
    "- Assess Data\n",
    "- Clean Data"
   ]
  },
  {
   "cell_type": "markdown",
   "metadata": {},
   "source": [
    "The data was gathered three different ways. The first file was provided by udacity which contained the information about the tweets and the dogs. Second, I used twitter API to get the data regarding the tweets. More specifically, how many times the tweet was retweeted and favourited. The last file was a tsv file which was extracted through udacity using the requests module.\n",
    "\n",
    "Through programmatic and viusal assessment, I made a list of the issues associated witht the data set:\n",
    "\n",
    "#### Data Quality\n",
    "\n",
    "- The three dataframes have different number of tweet_ids\n",
    "- There are retweeted tweets in twitter_archive_data\n",
    "- Retweeted status timestamp in twitter_archive is a string\n",
    "- There are some denominators that are greater than 10 in twitter_archive. We can check the tweets text to see if there is a chance of extracting the correct ratings\n",
    "- There are outliers in numerators in twitter_archive. We can follow the same process of fixing the denominators here as well\n",
    "- Timestamp is a string rather than datetime. This is crucial as we will be using this as part of our analysis\n",
    "- There are missing dog names. We can't go back in time to get the dog names for tweets, so we will have to drop these rows\n",
    "- P1 has mix of upper case and lower case letters, no standard\n",
    "\n",
    "#### Data Tidiness\n",
    "\n",
    "- doggo, floofer, pupper, puppo should be combined to one column as they all represent dog 'stage' and can only carry one value\n",
    "- There are three dataframes, while we only need 2 or even just one\n",
    "- There are three probabilities in image_df, we only need one as that is the biggest probabiity"
   ]
  },
  {
   "cell_type": "markdown",
   "metadata": {},
   "source": [
    "After addressing these issues one by one, I combined the three dataframes to make one dataframe ready for analysis."
   ]
  }
 ],
 "metadata": {
  "kernelspec": {
   "display_name": "Python 3",
   "language": "python",
   "name": "python3"
  },
  "language_info": {
   "codemirror_mode": {
    "name": "ipython",
    "version": 3
   },
   "file_extension": ".py",
   "mimetype": "text/x-python",
   "name": "python",
   "nbconvert_exporter": "python",
   "pygments_lexer": "ipython3",
   "version": "3.6.3"
  }
 },
 "nbformat": 4,
 "nbformat_minor": 2
}
